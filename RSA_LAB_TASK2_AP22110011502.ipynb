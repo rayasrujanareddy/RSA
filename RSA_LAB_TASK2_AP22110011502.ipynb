{
  "nbformat": 4,
  "nbformat_minor": 0,
  "metadata": {
    "colab": {
      "provenance": [],
      "authorship_tag": "ABX9TyNowQHsG9P9bTyIqZqKrabH",
      "include_colab_link": true
    },
    "kernelspec": {
      "name": "python3",
      "display_name": "Python 3"
    },
    "language_info": {
      "name": "python"
    }
  },
  "cells": [
    {
      "cell_type": "markdown",
      "metadata": {
        "id": "view-in-github",
        "colab_type": "text"
      },
      "source": [
        "<a href=\"https://colab.research.google.com/github/rayasrujanareddy/RSA/blob/main/RSA_LAB_TASK2_AP22110011502.ipynb\" target=\"_parent\"><img src=\"https://colab.research.google.com/assets/colab-badge.svg\" alt=\"Open In Colab\"/></a>"
      ]
    },
    {
      "cell_type": "markdown",
      "source": [
        "1) Write a program to implement RSA algorithm for key-Generation\n",
        "\n",
        "2) Use solution of question 1 to implement encryption and decryption process to encrypt a number\n",
        "and an alphabet"
      ],
      "metadata": {
        "id": "Jfs_jlxr12Ll"
      }
    },
    {
      "cell_type": "code",
      "source": [
        "from math import gcd\n",
        "\n",
        "def is_prime(n):\n",
        "    if n < 2:\n",
        "        return False\n",
        "    for i in range(2, int(n ** 0.5) + 1):\n",
        "        if n % i == 0:\n",
        "            return False\n",
        "    return True\n",
        "\n",
        "def get_prime(prompt):\n",
        "    while True:\n",
        "        try:\n",
        "            num = int(input(prompt))\n",
        "            if is_prime(num):\n",
        "                return num\n",
        "            else:\n",
        "                print(\"Please enter a valid prime number.\")\n",
        "        except ValueError:\n",
        "            print(\"Invalid input! Enter an integer.\")\n",
        "\n",
        "p = get_prime(\"Enter a prime number (p): \")\n",
        "q = get_prime(\"Enter another prime number (q): \")\n",
        "\n",
        "n = p * q\n",
        "phi = (p - 1) * (q - 1)\n",
        "\n",
        "def mod_inverse(a, m):\n",
        "    m0, x0, x1 = m, 0, 1\n",
        "    while a > 1:\n",
        "        q = a // m\n",
        "        m, a = a % m, m\n",
        "        x0, x1 = x1 - q * x0, x0\n",
        "    return x1 + m0 if x1 < 0 else x1\n",
        "\n",
        "def choose_e(phi):\n",
        "    e = 65537  # Standard RSA choice\n",
        "    if gcd(e, phi) == 1:\n",
        "        return e\n",
        "    for e in range(3, phi, 2):\n",
        "        if gcd(e, phi) == 1:\n",
        "            return e\n",
        "    return None\n",
        "\n",
        "e = choose_e(phi)\n",
        "d = mod_inverse(e, phi)\n",
        "\n",
        "public_key = (e, n)\n",
        "private_key = (d, n)\n",
        "\n",
        "print(\"\\n--- RSA Key Generation ---\")\n",
        "print(f\"Selected primes: p = {p}, q = {q}\")\n",
        "print(f\"n = p * q = {n}\")\n",
        "print(f\"Euler’s totient function φ(n) = {phi}\")\n",
        "print(f\"Chosen e = {e}\")\n",
        "print(f\"Computed d (private key exponent) = {d}\")\n",
        "print(f\"\\nPublic Key: {public_key}\")\n",
        "print(f\"Private Key: {private_key}\")\n",
        "\n",
        "def encrypt_number(num, public_key):\n",
        "    e, n = public_key\n",
        "    return pow(num, e, n)\n",
        "\n",
        "def decrypt_number(ciphertext, private_key):\n",
        "    d, n = private_key\n",
        "    return pow(ciphertext, d, n)\n",
        "\n",
        "def encrypt_text(message, public_key):\n",
        "    e, n = public_key\n",
        "    return [pow(ord(char), e, n) for char in message]\n",
        "\n",
        "def decrypt_text(ciphertext, private_key):\n",
        "    d, n = private_key\n",
        "    return ''.join(chr(pow(char, d, n)) for char in ciphertext)\n",
        "\n",
        "# Encrypt and Decrypt a Number\n",
        "num = int(input(\"Enter a number to encrypt: \"))\n",
        "enc_num = encrypt_number(num, public_key)\n",
        "print(\"Encrypted Number:\", enc_num)\n",
        "dec_num = decrypt_number(enc_num, private_key)\n",
        "print(\"Decrypted Number:\", dec_num)\n",
        "\n",
        "# Encrypt and Decrypt an Alphabet\n",
        "alpha = input(\"Enter an alphabet to encrypt: \")\n",
        "enc_alpha = encrypt_text(alpha, public_key)\n",
        "print(\"Encrypted Alphabet:\", enc_alpha)\n",
        "dec_alpha = decrypt_text(enc_alpha, private_key)\n",
        "print(\"Decrypted Alphabet:\", dec_alpha)"
      ],
      "metadata": {
        "colab": {
          "base_uri": "https://localhost:8080/"
        },
        "id": "Lwa5cYv82KFx",
        "outputId": "77536412-34a0-4e0e-b066-05f8b6b35519"
      },
      "execution_count": 4,
      "outputs": [
        {
          "output_type": "stream",
          "name": "stdout",
          "text": [
            "Enter a prime number (p): 61\n",
            "Enter another prime number (q): 53\n",
            "\n",
            "--- RSA Key Generation ---\n",
            "Selected primes: p = 61, q = 53\n",
            "n = p * q = 3233\n",
            "Euler’s totient function φ(n) = 3120\n",
            "Chosen e = 65537\n",
            "Computed d (private key exponent) = 2753\n",
            "\n",
            "Public Key: (65537, 3233)\n",
            "Private Key: (2753, 3233)\n",
            "Enter a number to encrypt: 42\n",
            "Encrypted Number: 2557\n",
            "Decrypted Number: 42\n",
            "Enter an alphabet to encrypt: A\n",
            "Encrypted Alphabet: [2790]\n",
            "Decrypted Alphabet: A\n"
          ]
        }
      ]
    }
  ]
}